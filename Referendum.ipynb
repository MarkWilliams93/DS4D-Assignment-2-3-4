{
 "cells": [
  {
   "cell_type": "code",
   "execution_count": 1,
   "metadata": {
    "collapsed": true
   },
   "outputs": [],
   "source": [
    "import pandas as pd\n",
    "from glob import glob\n",
    "\n",
    "dataframes = []\n",
    "files = glob(\"*201606*.json\")\n",
    "sorted_files = sorted(files)\n",
    "for f in sorted_files:\n",
    "    df = pd.read_json(f)\n",
    "    df['classes'] = f\n",
    "    dataframes.append(df)\n",
    "\n",
    "\n",
    "dataG = pd.concat(dataframes)"
   ]
  },
  {
   "cell_type": "code",
   "execution_count": 3,
   "metadata": {
    "collapsed": true
   },
   "outputs": [],
   "source": [
    "def MakeData(data):\n",
    "    word_list = []\n",
    "    confidence_list  = []\n",
    "    word_length_list = []\n",
    "    date_list = []\n",
    "    time_list = []\n",
    "    name_list = []\n",
    "    speaker_list = []\n",
    "    \n",
    "    datawc = pd.DataFrame()\n",
    "\n",
    "    for index,k in data.iterrows():\n",
    "        name = k['classes']\n",
    "        namesplit = name.split(\"_\")\n",
    "        date = namesplit[0]\n",
    "        time = namesplit[1]\n",
    "        for i in k['segments']:\n",
    "            for word in i['spokenWords']:\n",
    "                name_list.append(name)\n",
    "                time_list.append(time)\n",
    "                date_list.append(date)\n",
    "                word_list.append(word['wordId'])\n",
    "                confidence_list.append(word['wordConfidence'])\n",
    "                length = (word['wordEnd'] - word['wordStart'])\n",
    "                word_length_list.append(length)\n",
    "                speaker_list.append(i['speakerId'])\n",
    "    datawc['word'] = word_list\n",
    "    datawc['confidence'] = confidence_list\n",
    "    datawc['word length'] = word_length_list\n",
    "    datawc['speaker'] = speaker_list\n",
    "    datawc['date'] = date_list\n",
    "    datawc['time'] = time_list\n",
    "    datawc['name'] = name_list\n",
    "    return datawc,word_list,confidence_list,word_length_list,date_list,time_list,name_list\n",
    "datawcG,word_listG,confidence_listG,word_length_listG,date_listG,time_listG,name_listG = MakeData(dataG)"
   ]
  },
  {
   "cell_type": "code",
   "execution_count": 91,
   "metadata": {},
   "outputs": [
    {
     "data": {
      "text/plain": [
       "54205"
      ]
     },
     "execution_count": 91,
     "metadata": {},
     "output_type": "execute_result"
    }
   ],
   "source": [
    "data0623 = datawcG[datawcG['date'] == '20160623']\n",
    "data0622 = datawcG[datawcG['date'] == '20160622']\n",
    "data0624 = datawcG[datawcG['date'] == '20160624']\n",
    "\n",
    "list0623 = data0623['word'].str.lower().values.tolist()\n",
    "list0622 = data0622['word'].str.lower().values.tolist()\n",
    "list0624 = data0624['word'].str.lower().values.tolist()\n",
    "\n",
    "len(list0623)"
   ]
  },
  {
   "cell_type": "code",
   "execution_count": 80,
   "metadata": {},
   "outputs": [],
   "source": [
    "list_cameron = []\n",
    "for i in range(0,len(list0623)):\n",
    "    if list0623[i] == 'cameron':\n",
    "        for j in range(-20,20):\n",
    "            list_cameron.append(list0623[i+j])\n",
    "\n",
    "list_bj = []\n",
    "for i in range(0,len(list0623)):\n",
    "    if list0623[i] == 'boris':\n",
    "        for j in range(-20,20):\n",
    "            print(list0623[i+j])\n",
    "            list_bj.append(list0623[i+j])"
   ]
  },
  {
   "cell_type": "code",
   "execution_count": 21,
   "metadata": {},
   "outputs": [],
   "source": [
    "import nltk"
   ]
  },
  {
   "cell_type": "code",
   "execution_count": 26,
   "metadata": {},
   "outputs": [],
   "source": [
    "#needed once only\n",
    "#nltk.download()"
   ]
  },
  {
   "cell_type": "code",
   "execution_count": 33,
   "metadata": {},
   "outputs": [],
   "source": [
    "tagged_list0623 = nltk.pos_tag(list0623)\n",
    "tagged_list0622 = nltk.pos_tag(list0622)\n",
    "tagged_list0624 = nltk.pos_tag(list0624)"
   ]
  },
  {
   "cell_type": "code",
   "execution_count": 77,
   "metadata": {},
   "outputs": [
    {
     "name": "stdout",
     "output_type": "stream",
     "text": [
      "360\n",
      "120\n"
     ]
    }
   ],
   "source": [
    "tagged_list_cameron = nltk.pos_tag(list_cameron)\n",
    "tagged_list_bj = nltk.pos_tag(list_bj)\n",
    "print(len(tagged_list_cameron))\n",
    "print(len(tagged_list_bj))"
   ]
  },
  {
   "cell_type": "code",
   "execution_count": 70,
   "metadata": {},
   "outputs": [
    {
     "data": {
      "text/plain": [
       "215"
      ]
     },
     "execution_count": 70,
     "metadata": {},
     "output_type": "execute_result"
    }
   ],
   "source": [
    "fil_tag_list_cam = []\n",
    "for word, tag in tagged_list_cameron:\n",
    "    if (\"JJ\" in tag) or (\"NN\" in tag) or (\"VB\" in tag) or (\"RB\" in tag):\n",
    "        fil_tag_list_cam.append(word)\n",
    "len(fil_tag_list_cam)"
   ]
  },
  {
   "cell_type": "code",
   "execution_count": 79,
   "metadata": {},
   "outputs": [
    {
     "data": {
      "text/plain": [
       "['start',\n",
       " 'government',\n",
       " 'has',\n",
       " 'set',\n",
       " 'white',\n",
       " 'paper',\n",
       " 'is',\n",
       " 'start',\n",
       " \"they're\",\n",
       " 'gonna',\n",
       " 'make',\n",
       " 'now',\n",
       " 'joe',\n",
       " 'johnson',\n",
       " 'success',\n",
       " 'be',\n",
       " 'consulting',\n",
       " 'other',\n",
       " 'metrics',\n",
       " 'future',\n",
       " 'free',\n",
       " 'measures',\n",
       " 'government',\n",
       " 'skates',\n",
       " 'let',\n",
       " 'just',\n",
       " 'question',\n",
       " 'i',\n",
       " 'never',\n",
       " 'come',\n",
       " 'back',\n",
       " 'look',\n",
       " 'well',\n",
       " \"it's\",\n",
       " 'joe',\n",
       " 'johnson',\n",
       " 'mentioned',\n",
       " 'has',\n",
       " 'suggested',\n",
       " 'universities',\n",
       " 'rather',\n",
       " 'trade',\n",
       " 'reputation',\n",
       " 'research',\n",
       " \"don't\",\n",
       " 'give',\n",
       " 'students',\n",
       " 'gave',\n",
       " 'same',\n",
       " 'way',\n",
       " 'consequences',\n",
       " 'bricks',\n",
       " 'european',\n",
       " 'union',\n",
       " 'obviously',\n",
       " 'britain',\n",
       " 'i',\n",
       " 'was',\n",
       " 'johnson',\n",
       " 'friedman',\n",
       " 'not',\n",
       " 'report',\n",
       " 'naomi',\n",
       " 'grimly',\n",
       " 'now',\n",
       " 'back',\n",
       " 'april',\n",
       " 'u.s.',\n",
       " 'president',\n",
       " 'barack',\n",
       " 'obama',\n",
       " 'took']"
      ]
     },
     "execution_count": 79,
     "metadata": {},
     "output_type": "execute_result"
    }
   ],
   "source": [
    "fil_tag_list_bj = []\n",
    "for word, tag in tagged_list_bj:\n",
    "    if (\"JJ\" in tag) or (\"NN\" in tag) or (\"VB\" in tag) or (\"RB\" in tag):\n",
    "        fil_tag_list_bj.append(word)\n",
    "len(fil_tag_list_bj)\n",
    "fil_tag_list_bj"
   ]
  },
  {
   "cell_type": "code",
   "execution_count": null,
   "metadata": {
    "collapsed": true
   },
   "outputs": [],
   "source": []
  }
 ],
 "metadata": {
  "kernelspec": {
   "display_name": "Python 3",
   "language": "python",
   "name": "python3"
  },
  "language_info": {
   "codemirror_mode": {
    "name": "ipython",
    "version": 3
   },
   "file_extension": ".py",
   "mimetype": "text/x-python",
   "name": "python",
   "nbconvert_exporter": "python",
   "pygments_lexer": "ipython3",
   "version": "3.6.3"
  }
 },
 "nbformat": 4,
 "nbformat_minor": 2
}
